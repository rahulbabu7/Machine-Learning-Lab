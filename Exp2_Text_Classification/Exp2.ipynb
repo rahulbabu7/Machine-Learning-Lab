{
 "cells": [
  {
   "cell_type": "code",
   "execution_count": 48,
   "metadata": {},
   "outputs": [],
   "source": [
    "from sklearn.feature_extraction.text import CountVectorizer, TfidfVectorizer \n",
    "from sklearn.naive_bayes import MultinomialNB \n",
    "from sklearn.model_selection import train_test_split \n",
    "from sklearn.metrics import accuracy_score, classification_report\n",
    "from numpy import vectorize\n"
   ]
  },
  {
   "cell_type": "code",
   "execution_count": 49,
   "metadata": {},
   "outputs": [],
   "source": [
    "documents = [\"This is positive document\", \"Negative sentiment in this text\", \"This document is neutral\", \"Another positive example\",\"This text is negative\"] \n",
    "labels = [\"positive\",\"Negative\", \"Neutral\", \"Positive\", \"Negative\"]  "
   ]
  },
  {
   "cell_type": "code",
   "execution_count": 50,
   "metadata": {},
   "outputs": [],
   "source": [
    "vectorizer = TfidfVectorizer() \n",
    "x=vectorizer.fit_transform(documents) \n",
    "x_train, x_test, y_train, y_test = train_test_split(x,labels,test_size=0.2, random_state=42) \n",
    "clf = MultinomialNB() \n",
    "clf.fit(x_train, y_train) \n",
    "y_pred = clf.predict(x_test) \n",
    "accuracy = accuracy_score(y_test, y_pred) \n",
    "report = classification_report(y_test, y_pred) "
   ]
  },
  {
   "cell_type": "code",
   "execution_count": 51,
   "metadata": {},
   "outputs": [
    {
     "name": "stdout",
     "output_type": "stream",
     "text": [
      "Accuracy is : 1.0\n",
      "              precision    recall  f1-score   support\n",
      "\n",
      "    Negative       1.00      1.00      1.00         1\n",
      "\n",
      "    accuracy                           1.00         1\n",
      "   macro avg       1.00      1.00      1.00         1\n",
      "weighted avg       1.00      1.00      1.00         1\n",
      "\n"
     ]
    }
   ],
   "source": [
    "print(\"Accuracy is :\", accuracy) \n",
    "print(report)"
   ]
  }
 ],
 "metadata": {
  "kernelspec": {
   "display_name": "venv",
   "language": "python",
   "name": "python3"
  },
  "language_info": {
   "codemirror_mode": {
    "name": "ipython",
    "version": 3
   },
   "file_extension": ".py",
   "mimetype": "text/x-python",
   "name": "python",
   "nbconvert_exporter": "python",
   "pygments_lexer": "ipython3",
   "version": "3.13.0"
  }
 },
 "nbformat": 4,
 "nbformat_minor": 2
}
